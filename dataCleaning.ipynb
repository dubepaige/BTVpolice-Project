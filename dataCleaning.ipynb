{
 "cells": [
  {
   "cell_type": "code",
   "execution_count": null,
   "metadata": {},
   "outputs": [],
   "source": [
    "#Imports\n",
    "import pandas as pd\n",
    "import seaborn as sns\n",
    "import matplotlib.pyplot as plt"
   ]
  },
  {
   "cell_type": "code",
   "execution_count": null,
   "metadata": {},
   "outputs": [],
   "source": [
    "#Download uncleaned data\n",
    "BTVpolice = pd.read_csv('data/BTVpolice.csv')"
   ]
  },
  {
   "cell_type": "code",
   "execution_count": null,
   "metadata": {},
   "outputs": [],
   "source": [
    "BTVpolice_cleaned = BTVpolice.replace('NA', pd.NA).dropna()\n",
    "\n",
    "BTVpolice_cleaned.to_csv('data/BTVpolice_cleaned.csv', index=False)\n"
   ]
  },
  {
   "cell_type": "code",
   "execution_count": null,
   "metadata": {},
   "outputs": [
    {
     "name": "stdout",
     "output_type": "stream",
     "text": [
      "Counts by Day of the Week:\n",
      "DayOfWeek\n",
      "Friday       9968\n",
      "Wednesday    9124\n",
      "Thursday     9124\n",
      "Tuesday      8910\n",
      "Monday       8699\n",
      "Saturday     7929\n",
      "Sunday       7115\n",
      "Name: count, dtype: int64\n",
      "\n",
      "Counts by Day of the Month:\n",
      "Month\n",
      "August       7393\n",
      "July         6231\n",
      "June         5690\n",
      "September    5684\n",
      "May          5430\n",
      "October      5218\n",
      "April        4726\n",
      "November     4424\n",
      "March        4189\n",
      "December     4171\n",
      "January      3990\n",
      "February     3723\n",
      "Name: count, dtype: int64\n"
     ]
    }
   ],
   "source": [
    "\n",
    "day_of_week_counts = BTVpolice['DayOfWeek'].value_counts()\n",
    "day_of_month_counts = BTVpolice['Month'].value_counts()\n",
    "\n",
    "print(\"Counts by Day of the Week:\")\n",
    "print(day_of_week_counts)\n",
    "print(\"\\nCounts by Day of the Month:\")\n",
    "print(day_of_month_counts)\n"
   ]
  },
  {
   "cell_type": "code",
   "execution_count": null,
   "metadata": {},
   "outputs": [
    {
     "name": "stdout",
     "output_type": "stream",
     "text": [
      "date\n",
      "2023-07-03    129\n",
      "2023-07-12    148\n",
      "2023-07-14    155\n",
      "2023-07-17    139\n",
      "2023-07-19    150\n",
      "2023-07-20    147\n",
      "2023-07-21    147\n",
      "2023-07-28    148\n",
      "2023-08-10    125\n",
      "2023-09-01    131\n",
      "2023-09-05    128\n",
      "2023-09-06    133\n",
      "2023-09-07    154\n",
      "2023-09-08    151\n",
      "2023-09-15    128\n",
      "2023-09-22    125\n",
      "2023-10-05    132\n",
      "2023-10-06    133\n",
      "2023-10-13    139\n",
      "2023-10-19    137\n",
      "2023-10-28    137\n",
      "2024-05-20    128\n",
      "2024-06-06    132\n",
      "2024-08-07    126\n",
      "2024-08-14    137\n",
      "dtype: int64\n"
     ]
    }
   ],
   "source": [
    "\n",
    "BTVpolice['call_time'] = pd.to_datetime(BTVpolice['call_time'])\n",
    "\n",
    "BTVpolice['date'] = BTVpolice['call_time'].dt.date\n",
    "\n",
    "calls_per_day = BTVpolice.groupby('date').size()\n",
    "\n",
    "mean_calls = calls_per_day.mean()\n",
    "std_calls = calls_per_day.std()\n",
    "outliers = calls_per_day[calls_per_day > (mean_calls + 2 * std_calls)]\n",
    "\n",
    "print(outliers)\n"
   ]
  },
  {
   "cell_type": "code",
   "execution_count": null,
   "metadata": {},
   "outputs": [
    {
     "data": {
      "image/png": "[encoded data removed]",
      "text/plain": [
       "<Figure size 1000x600 with 1 Axes>"
      ]
     },
     "metadata": {},
     "output_type": "display_data"
    }
   ],
   "source": [
    "\n",
    "BTVpolice['call_time'] = pd.to_datetime(BTVpolice['call_time'])\n",
    "BTVpolice['date'] = BTVpolice['call_time'].dt.date\n",
    "\n",
    "calls_per_day = BTVpolice.groupby('date').size().reset_index(name='num_calls')\n",
    "\n",
    "# Create the boxplot\n",
    "plt.figure(figsize=(10, 6))\n",
    "sns.boxplot(x=calls_per_day['num_calls'])\n",
    "plt.title('Boxplot of Number of Calls per Day')\n",
    "plt.xlabel('Number of Calls')\n",
    "plt.show()\n"
   ]
  },
  {
   "cell_type": "markdown",
   "metadata": {},
   "source": []
  }
 ],
 "metadata": {
  "kernelspec": {
   "display_name": "Python 3",
   "language": "python",
   "name": "python3"
  },
  "language_info": {
   "codemirror_mode": {
    "name": "ipython",
    "version": 3
   },
   "file_extension": ".py",
   "mimetype": "text/x-python",
   "name": "python",
   "nbconvert_exporter": "python",
   "pygments_lexer": "ipython3",
   "version": "3.10.6"
  }
 },
 "nbformat": 4,
 "nbformat_minor": 2
}
