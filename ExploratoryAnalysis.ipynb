{
 "cells": [
  {
   "cell_type": "code",
   "execution_count": 2,
   "metadata": {},
   "outputs": [],
   "source": [
    "# Imports\n",
    "import pandas as pd\n",
    "import seaborn as sns\n",
    "import matplotlib.pyplot as plt\n",
    "\n",
    "# Data\n",
    "BTVpolice = pd.read_csv('data/BTVpolice_cleaned.csv')"
   ]
  },
  {
   "cell_type": "markdown",
   "metadata": {},
   "source": [
    "## Try mapping by different factors"
   ]
  },
  {
   "cell_type": "code",
   "execution_count": null,
   "metadata": {},
   "outputs": [
    {
     "name": "stdout",
     "output_type": "stream",
     "text": [
      "date\n",
      "2023-04-14    105\n",
      "2023-06-02    107\n",
      "2023-07-12    131\n",
      "2023-07-14    135\n",
      "2023-07-17    113\n",
      "2023-07-19    128\n",
      "2023-07-20    128\n",
      "2023-07-21    133\n",
      "2023-07-28    120\n",
      "2023-08-07    106\n",
      "2023-08-10    107\n",
      "2023-09-01    115\n",
      "2023-09-06    108\n",
      "2023-09-07    128\n",
      "2023-09-08    127\n",
      "2023-09-16    105\n",
      "2023-09-22    111\n",
      "2023-10-05    118\n",
      "2023-10-06    118\n",
      "2023-10-13    117\n",
      "2023-10-19    115\n",
      "2023-10-28    111\n",
      "2024-05-06    105\n",
      "2024-05-18    109\n",
      "2024-05-20    105\n",
      "2024-08-14    117\n",
      "dtype: int64\n"
     ]
    }
   ],
   "source": [
    "# Date\n",
    "#Think about holidays/significant events\n",
    "#Find outliers\n",
    "\n",
    "BTVpolice['call_time'] = pd.to_datetime(BTVpolice['call_time'])\n",
    "BTVpolice['date'] = BTVpolice['call_time'].dt.date\n",
    "calls_per_day = BTVpolice.groupby('date').size()\n",
    "mean_calls = calls_per_day.mean()\n",
    "std_calls = calls_per_day.std()\n",
    "outliers = calls_per_day[calls_per_day > (mean_calls + 2 * std_calls)]\n",
    "\n",
    "print(outliers)\n"
   ]
  },
  {
   "cell_type": "code",
   "execution_count": null,
   "metadata": {},
   "outputs": [],
   "source": [
    "#Priority"
   ]
  },
  {
   "cell_type": "code",
   "execution_count": null,
   "metadata": {},
   "outputs": [],
   "source": [
    "#Drug-related, dv-related, alcohol-related, mental-health related"
   ]
  },
  {
   "cell_type": "code",
   "execution_count": null,
   "metadata": {},
   "outputs": [],
   "source": [
    "# Call_type"
   ]
  },
  {
   "cell_type": "code",
   "execution_count": null,
   "metadata": {},
   "outputs": [],
   "source": [
    "#Hour (histogram)"
   ]
  },
  {
   "cell_type": "code",
   "execution_count": null,
   "metadata": {},
   "outputs": [],
   "source": [
    "#Day of week (histogram)"
   ]
  },
  {
   "cell_type": "code",
   "execution_count": null,
   "metadata": {},
   "outputs": [],
   "source": [
    "#Month (histogram)"
   ]
  }
 ],
 "metadata": {
  "kernelspec": {
   "display_name": "Python 3",
   "language": "python",
   "name": "python3"
  },
  "language_info": {
   "codemirror_mode": {
    "name": "ipython",
    "version": 3
   },
   "file_extension": ".py",
   "mimetype": "text/x-python",
   "name": "python",
   "nbconvert_exporter": "python",
   "pygments_lexer": "ipython3",
   "version": "3.10.6"
  }
 },
 "nbformat": 4,
 "nbformat_minor": 2
}
